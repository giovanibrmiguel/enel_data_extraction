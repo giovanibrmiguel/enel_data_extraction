{
 "cells": [
  {
   "cell_type": "code",
   "execution_count": 1,
   "metadata": {},
   "outputs": [],
   "source": [
    "import pandas as pd\n",
    "import re"
   ]
  },
  {
   "cell_type": "code",
   "execution_count": 4,
   "metadata": {},
   "outputs": [],
   "source": [
    "with open('conta.txt', 'r') as file:\n",
    "    texto = file.read().replace('\\n', ' ')"
   ]
  },
  {
   "cell_type": "code",
   "execution_count": 5,
   "metadata": {},
   "outputs": [],
   "source": [
    "with open('texto.txt', 'r') as file:\n",
    "    texto = file.read().replace('\\n', ' ')"
   ]
  },
  {
   "cell_type": "code",
   "execution_count": 297,
   "metadata": {
    "scrolled": false
   },
   "outputs": [
    {
     "data": {
      "text/plain": [
       "'MTE0014877'"
      ]
     },
     "execution_count": 297,
     "metadata": {},
     "output_type": "execute_result"
    }
   ],
   "source": [
    "#Assumindo que a primeira palavra após N DA INSTALAÇÃO vai ser o número da instalação\n",
    "n_instalação = re.search('N° DA INSTALAÇÃO (\\w+)', texto).group(1)\n",
    "n_instalação"
   ]
  },
  {
   "cell_type": "code",
   "execution_count": 298,
   "metadata": {},
   "outputs": [
    {
     "data": {
      "text/plain": [
       "'05.055.735/0001-36'"
      ]
     },
     "execution_count": 298,
     "metadata": {},
     "output_type": "execute_result"
    }
   ],
   "source": [
    "#Assumindo que a palavra entre CPF?CNPJ e INC. EST vai ser o CPF/CNPJ\n",
    "CPF_CNPJ = re.search('CPF/CNPJ: (.*) INSC. EST', texto).group(1)\n",
    "CPF_CNPJ"
   ]
  },
  {
   "cell_type": "code",
   "execution_count": 299,
   "metadata": {},
   "outputs": [
    {
     "data": {
      "text/plain": [
       "'CONDOMINIO E-TOWER SAO PAULO'"
      ]
     },
     "execution_count": 299,
     "metadata": {},
     "output_type": "execute_result"
    }
   ],
   "source": [
    "#Assumindo que a frase entre 'leitura anterior' e 'leitura atual' excluindo as duas primeiras palavras (mes e dia) são o local\n",
    "local = re.search('Leitura anterior (.*) Leitura atual', texto).group(1)\n",
    "local = local.split(' ', 2)[2]\n",
    "local"
   ]
  },
  {
   "cell_type": "code",
   "execution_count": 300,
   "metadata": {},
   "outputs": [
    {
     "data": {
      "text/plain": [
       "'A'"
      ]
     },
     "execution_count": 300,
     "metadata": {},
     "output_type": "execute_result"
    }
   ],
   "source": [
    "#Assumindo que a primeira palavra após GRUPO vai ser o grupo\n",
    "grupo = re.search('Grupo (\\w+)', texto).group(1)\n",
    "grupo"
   ]
  },
  {
   "cell_type": "code",
   "execution_count": 301,
   "metadata": {
    "scrolled": true
   },
   "outputs": [
    {
     "data": {
      "text/plain": [
       "'A4'"
      ]
     },
     "execution_count": 301,
     "metadata": {},
     "output_type": "execute_result"
    }
   ],
   "source": [
    "#Assumindo que a primeira palavra após GRUPO vai ser o grupo\n",
    "subgrupo = re.search('Subgrupo (\\w+)', texto).group(1)\n",
    "subgrupo"
   ]
  },
  {
   "cell_type": "code",
   "execution_count": 302,
   "metadata": {},
   "outputs": [
    {
     "data": {
      "text/plain": [
       "'Verde'"
      ]
     },
     "execution_count": 302,
     "metadata": {},
     "output_type": "execute_result"
    }
   ],
   "source": [
    "#Assumindo que a primeira palavra após Modalidade Tarifária vai ser a modalidade tarifária\n",
    "modalidade_tarifaria = re.search('Modalidade Tarifária (\\w+)', texto).group(1)\n",
    "modalidade_tarifaria"
   ]
  },
  {
   "cell_type": "code",
   "execution_count": 303,
   "metadata": {},
   "outputs": [
    {
     "data": {
      "text/plain": [
       "'1.100,0'"
      ]
     },
     "execution_count": 303,
     "metadata": {},
     "output_type": "execute_result"
    }
   ],
   "source": [
    "#Assumindo que a energia_contratada vai ser um número aparecendo logo após o texto Energia Contratada\n",
    "energia_contratada = re.search('Demanda / Energia Contratada ([\\d,\\.]+)', texto).group(1)\n",
    "energia_contratada"
   ]
  },
  {
   "cell_type": "code",
   "execution_count": 304,
   "metadata": {
    "scrolled": true
   },
   "outputs": [
    {
     "data": {
      "text/plain": [
       "'ACL'"
      ]
     },
     "execution_count": 304,
     "metadata": {},
     "output_type": "execute_result"
    }
   ],
   "source": [
    "#Assumindo que o sétimo string após 'Série Base de cálculo Alíquota ICMS' vai ser a série\n",
    "serie = re.search('Série Base de cálculo Alíquota ICMS (.*)', texto).group(1)\n",
    "serie = serie.split(' ', 8)[8]\n",
    "serie = serie.split()[0]\n",
    "serie"
   ]
  },
  {
   "cell_type": "code",
   "execution_count": 305,
   "metadata": {},
   "outputs": [
    {
     "data": {
      "text/plain": [
       "['153.680,5',\n",
       " '151.548,2',\n",
       " '158.159,4',\n",
       " '160.611,8',\n",
       " '197.036,6',\n",
       " '184.986,7',\n",
       " '195.434,6',\n",
       " '132.169,7',\n",
       " '183.348,7',\n",
       " '176.524,6',\n",
       " '176.438,9',\n",
       " '172.877,0',\n",
       " '157.726,8']"
      ]
     },
     "execution_count": 305,
     "metadata": {},
     "output_type": "execute_result"
    }
   ],
   "source": [
    "#Assumindo que após a palavra Hora Ponta virá a tabela que terá 13 linhas\n",
    "tabela = re.search('Hora Ponta (.*)', texto).group(1)\n",
    "tabela = tabela.split()\n",
    "months = tabela[:13]\n",
    "demanda = tabela[13:26]\n",
    "consumo_hora_ponta = tabela[26:39]\n",
    "consumo_hora_fora_ponta = tabela[39:52]\n",
    "consumo_hora_fora_ponta"
   ]
  },
  {
   "cell_type": "code",
   "execution_count": 306,
   "metadata": {},
   "outputs": [
    {
     "data": {
      "text/plain": [
       "'0,65%'"
      ]
     },
     "execution_count": 306,
     "metadata": {},
     "output_type": "execute_result"
    }
   ],
   "source": [
    "#Assumindo que o PIS/PASEP vai estar entre parenteses após a frase PIS/PASEP\n",
    "PIS_PASEP = re.search('PIS/PASEP \\((.*?)\\)', texto).group(1)\n",
    "PIS_PASEP"
   ]
  },
  {
   "cell_type": "code",
   "execution_count": 307,
   "metadata": {},
   "outputs": [
    {
     "data": {
      "text/plain": [
       "'2,98%'"
      ]
     },
     "execution_count": 307,
     "metadata": {},
     "output_type": "execute_result"
    }
   ],
   "source": [
    "#Assumindo que o COFINS vai estar entre parenteses após a frase COFINS\n",
    "COFINS = re.search('COFINS \\((.*?)\\)', texto).group(1)\n",
    "COFINS"
   ]
  },
  {
   "cell_type": "code",
   "execution_count": 308,
   "metadata": {
    "scrolled": true
   },
   "outputs": [
    {
     "name": "stdout",
     "output_type": "stream",
     "text": [
      "{'n_instalação': 'MTE0014877', 'CPF_CNPJ': '05.055.735/0001-36', 'local': 'CONDOMINIO E-TOWER SAO PAULO', 'grupo': 'A', 'subgrupo': 'A4', 'modalidade_tarifaria': 'Verde', 'energia_contratada': '1.100,0', 'serie': 'ACL', 'months': ['JUL/21', 'JUN/21', 'MAI/21', 'MAI/21', 'ABR/21', 'MAR/21', 'FEV/21', 'JAN/21', 'DEZ/20', 'NOV/20', 'OUT/20', 'SET/20', 'AGO/20'], 'demanda': ['1.100,0', '1.100,0', '1.100,0', '1.100,0', '1.100,0', '1.100,0', '1.100,0', '1.100,0', '1.100,0', '1.100,0', '1.100,0', '1.100,0', '1.100,0'], 'consumo_hora_ponta': ['14.265,7', '14.164,1', '13.509,7', '11.669,8', '18.131,8', '17.291,5', '16.670,2', '10.946,2', '17.631,4', '15.661,4', '16.853,8', '16.004,9', '13.851,4'], 'consumo_hora_fora_ponta': ['153.680,5', '151.548,2', '158.159,4', '160.611,8', '197.036,6', '184.986,7', '195.434,6', '132.169,7', '183.348,7', '176.524,6', '176.438,9', '172.877,0', '157.726,8'], 'PIS_PASEP': '0,65%', 'COFINS': '2,98%'}\n"
     ]
    }
   ],
   "source": [
    "keys = ['n_instalação',\n",
    "          'CPF_CNPJ',\n",
    "          'local',\n",
    "          'grupo',\n",
    "          'subgrupo',\n",
    "          'modalidade_tarifaria',\n",
    "          'energia_contratada',\n",
    "          'serie',\n",
    "          'months',\n",
    "          'demanda',\n",
    "          'consumo_hora_ponta',\n",
    "          'consumo_hora_fora_ponta',\n",
    "          'PIS_PASEP',\n",
    "          'COFINS'\n",
    "         ]\n",
    "\n",
    "values = [n_instalação,\n",
    "          CPF_CNPJ,\n",
    "          local,\n",
    "          grupo,\n",
    "          subgrupo,\n",
    "          modalidade_tarifaria,\n",
    "          energia_contratada,\n",
    "          serie,\n",
    "          months,\n",
    "          demanda,\n",
    "          consumo_hora_ponta,\n",
    "          consumo_hora_fora_ponta,\n",
    "          PIS_PASEP,\n",
    "          COFINS\n",
    "         ]\n",
    "dictionary = dict(zip(keys, values))\n",
    "print(dictionary)"
   ]
  },
  {
   "cell_type": "code",
   "execution_count": 309,
   "metadata": {
    "scrolled": true
   },
   "outputs": [
    {
     "data": {
      "text/html": [
       "<div>\n",
       "<style scoped>\n",
       "    .dataframe tbody tr th:only-of-type {\n",
       "        vertical-align: middle;\n",
       "    }\n",
       "\n",
       "    .dataframe tbody tr th {\n",
       "        vertical-align: top;\n",
       "    }\n",
       "\n",
       "    .dataframe thead th {\n",
       "        text-align: right;\n",
       "    }\n",
       "</style>\n",
       "<table border=\"1\" class=\"dataframe\">\n",
       "  <thead>\n",
       "    <tr style=\"text-align: right;\">\n",
       "      <th></th>\n",
       "      <th>n_instalação</th>\n",
       "      <th>CPF_CNPJ</th>\n",
       "      <th>local</th>\n",
       "      <th>grupo</th>\n",
       "      <th>subgrupo</th>\n",
       "      <th>modalidade_tarifaria</th>\n",
       "      <th>energia_contratada</th>\n",
       "      <th>serie</th>\n",
       "      <th>months</th>\n",
       "      <th>demanda</th>\n",
       "      <th>consumo_hora_ponta</th>\n",
       "      <th>consumo_hora_fora_ponta</th>\n",
       "      <th>PIS_PASEP</th>\n",
       "      <th>COFINS</th>\n",
       "    </tr>\n",
       "  </thead>\n",
       "  <tbody>\n",
       "    <tr>\n",
       "      <th>0</th>\n",
       "      <td>MTE0014877</td>\n",
       "      <td>05.055.735/0001-36</td>\n",
       "      <td>CONDOMINIO E-TOWER SAO PAULO</td>\n",
       "      <td>A</td>\n",
       "      <td>A4</td>\n",
       "      <td>Verde</td>\n",
       "      <td>1.100,0</td>\n",
       "      <td>ACL</td>\n",
       "      <td>JUL/21</td>\n",
       "      <td>1.100,0</td>\n",
       "      <td>14.265,7</td>\n",
       "      <td>153.680,5</td>\n",
       "      <td>0,65%</td>\n",
       "      <td>2,98%</td>\n",
       "    </tr>\n",
       "    <tr>\n",
       "      <th>1</th>\n",
       "      <td>MTE0014877</td>\n",
       "      <td>05.055.735/0001-36</td>\n",
       "      <td>CONDOMINIO E-TOWER SAO PAULO</td>\n",
       "      <td>A</td>\n",
       "      <td>A4</td>\n",
       "      <td>Verde</td>\n",
       "      <td>1.100,0</td>\n",
       "      <td>ACL</td>\n",
       "      <td>JUN/21</td>\n",
       "      <td>1.100,0</td>\n",
       "      <td>14.164,1</td>\n",
       "      <td>151.548,2</td>\n",
       "      <td>0,65%</td>\n",
       "      <td>2,98%</td>\n",
       "    </tr>\n",
       "    <tr>\n",
       "      <th>2</th>\n",
       "      <td>MTE0014877</td>\n",
       "      <td>05.055.735/0001-36</td>\n",
       "      <td>CONDOMINIO E-TOWER SAO PAULO</td>\n",
       "      <td>A</td>\n",
       "      <td>A4</td>\n",
       "      <td>Verde</td>\n",
       "      <td>1.100,0</td>\n",
       "      <td>ACL</td>\n",
       "      <td>MAI/21</td>\n",
       "      <td>1.100,0</td>\n",
       "      <td>13.509,7</td>\n",
       "      <td>158.159,4</td>\n",
       "      <td>0,65%</td>\n",
       "      <td>2,98%</td>\n",
       "    </tr>\n",
       "    <tr>\n",
       "      <th>3</th>\n",
       "      <td>MTE0014877</td>\n",
       "      <td>05.055.735/0001-36</td>\n",
       "      <td>CONDOMINIO E-TOWER SAO PAULO</td>\n",
       "      <td>A</td>\n",
       "      <td>A4</td>\n",
       "      <td>Verde</td>\n",
       "      <td>1.100,0</td>\n",
       "      <td>ACL</td>\n",
       "      <td>MAI/21</td>\n",
       "      <td>1.100,0</td>\n",
       "      <td>11.669,8</td>\n",
       "      <td>160.611,8</td>\n",
       "      <td>0,65%</td>\n",
       "      <td>2,98%</td>\n",
       "    </tr>\n",
       "    <tr>\n",
       "      <th>4</th>\n",
       "      <td>MTE0014877</td>\n",
       "      <td>05.055.735/0001-36</td>\n",
       "      <td>CONDOMINIO E-TOWER SAO PAULO</td>\n",
       "      <td>A</td>\n",
       "      <td>A4</td>\n",
       "      <td>Verde</td>\n",
       "      <td>1.100,0</td>\n",
       "      <td>ACL</td>\n",
       "      <td>ABR/21</td>\n",
       "      <td>1.100,0</td>\n",
       "      <td>18.131,8</td>\n",
       "      <td>197.036,6</td>\n",
       "      <td>0,65%</td>\n",
       "      <td>2,98%</td>\n",
       "    </tr>\n",
       "    <tr>\n",
       "      <th>5</th>\n",
       "      <td>MTE0014877</td>\n",
       "      <td>05.055.735/0001-36</td>\n",
       "      <td>CONDOMINIO E-TOWER SAO PAULO</td>\n",
       "      <td>A</td>\n",
       "      <td>A4</td>\n",
       "      <td>Verde</td>\n",
       "      <td>1.100,0</td>\n",
       "      <td>ACL</td>\n",
       "      <td>MAR/21</td>\n",
       "      <td>1.100,0</td>\n",
       "      <td>17.291,5</td>\n",
       "      <td>184.986,7</td>\n",
       "      <td>0,65%</td>\n",
       "      <td>2,98%</td>\n",
       "    </tr>\n",
       "    <tr>\n",
       "      <th>6</th>\n",
       "      <td>MTE0014877</td>\n",
       "      <td>05.055.735/0001-36</td>\n",
       "      <td>CONDOMINIO E-TOWER SAO PAULO</td>\n",
       "      <td>A</td>\n",
       "      <td>A4</td>\n",
       "      <td>Verde</td>\n",
       "      <td>1.100,0</td>\n",
       "      <td>ACL</td>\n",
       "      <td>FEV/21</td>\n",
       "      <td>1.100,0</td>\n",
       "      <td>16.670,2</td>\n",
       "      <td>195.434,6</td>\n",
       "      <td>0,65%</td>\n",
       "      <td>2,98%</td>\n",
       "    </tr>\n",
       "    <tr>\n",
       "      <th>7</th>\n",
       "      <td>MTE0014877</td>\n",
       "      <td>05.055.735/0001-36</td>\n",
       "      <td>CONDOMINIO E-TOWER SAO PAULO</td>\n",
       "      <td>A</td>\n",
       "      <td>A4</td>\n",
       "      <td>Verde</td>\n",
       "      <td>1.100,0</td>\n",
       "      <td>ACL</td>\n",
       "      <td>JAN/21</td>\n",
       "      <td>1.100,0</td>\n",
       "      <td>10.946,2</td>\n",
       "      <td>132.169,7</td>\n",
       "      <td>0,65%</td>\n",
       "      <td>2,98%</td>\n",
       "    </tr>\n",
       "    <tr>\n",
       "      <th>8</th>\n",
       "      <td>MTE0014877</td>\n",
       "      <td>05.055.735/0001-36</td>\n",
       "      <td>CONDOMINIO E-TOWER SAO PAULO</td>\n",
       "      <td>A</td>\n",
       "      <td>A4</td>\n",
       "      <td>Verde</td>\n",
       "      <td>1.100,0</td>\n",
       "      <td>ACL</td>\n",
       "      <td>DEZ/20</td>\n",
       "      <td>1.100,0</td>\n",
       "      <td>17.631,4</td>\n",
       "      <td>183.348,7</td>\n",
       "      <td>0,65%</td>\n",
       "      <td>2,98%</td>\n",
       "    </tr>\n",
       "    <tr>\n",
       "      <th>9</th>\n",
       "      <td>MTE0014877</td>\n",
       "      <td>05.055.735/0001-36</td>\n",
       "      <td>CONDOMINIO E-TOWER SAO PAULO</td>\n",
       "      <td>A</td>\n",
       "      <td>A4</td>\n",
       "      <td>Verde</td>\n",
       "      <td>1.100,0</td>\n",
       "      <td>ACL</td>\n",
       "      <td>NOV/20</td>\n",
       "      <td>1.100,0</td>\n",
       "      <td>15.661,4</td>\n",
       "      <td>176.524,6</td>\n",
       "      <td>0,65%</td>\n",
       "      <td>2,98%</td>\n",
       "    </tr>\n",
       "    <tr>\n",
       "      <th>10</th>\n",
       "      <td>MTE0014877</td>\n",
       "      <td>05.055.735/0001-36</td>\n",
       "      <td>CONDOMINIO E-TOWER SAO PAULO</td>\n",
       "      <td>A</td>\n",
       "      <td>A4</td>\n",
       "      <td>Verde</td>\n",
       "      <td>1.100,0</td>\n",
       "      <td>ACL</td>\n",
       "      <td>OUT/20</td>\n",
       "      <td>1.100,0</td>\n",
       "      <td>16.853,8</td>\n",
       "      <td>176.438,9</td>\n",
       "      <td>0,65%</td>\n",
       "      <td>2,98%</td>\n",
       "    </tr>\n",
       "    <tr>\n",
       "      <th>11</th>\n",
       "      <td>MTE0014877</td>\n",
       "      <td>05.055.735/0001-36</td>\n",
       "      <td>CONDOMINIO E-TOWER SAO PAULO</td>\n",
       "      <td>A</td>\n",
       "      <td>A4</td>\n",
       "      <td>Verde</td>\n",
       "      <td>1.100,0</td>\n",
       "      <td>ACL</td>\n",
       "      <td>SET/20</td>\n",
       "      <td>1.100,0</td>\n",
       "      <td>16.004,9</td>\n",
       "      <td>172.877,0</td>\n",
       "      <td>0,65%</td>\n",
       "      <td>2,98%</td>\n",
       "    </tr>\n",
       "    <tr>\n",
       "      <th>12</th>\n",
       "      <td>MTE0014877</td>\n",
       "      <td>05.055.735/0001-36</td>\n",
       "      <td>CONDOMINIO E-TOWER SAO PAULO</td>\n",
       "      <td>A</td>\n",
       "      <td>A4</td>\n",
       "      <td>Verde</td>\n",
       "      <td>1.100,0</td>\n",
       "      <td>ACL</td>\n",
       "      <td>AGO/20</td>\n",
       "      <td>1.100,0</td>\n",
       "      <td>13.851,4</td>\n",
       "      <td>157.726,8</td>\n",
       "      <td>0,65%</td>\n",
       "      <td>2,98%</td>\n",
       "    </tr>\n",
       "  </tbody>\n",
       "</table>\n",
       "</div>"
      ],
      "text/plain": [
       "   n_instalação            CPF_CNPJ                         local grupo  \\\n",
       "0    MTE0014877  05.055.735/0001-36  CONDOMINIO E-TOWER SAO PAULO     A   \n",
       "1    MTE0014877  05.055.735/0001-36  CONDOMINIO E-TOWER SAO PAULO     A   \n",
       "2    MTE0014877  05.055.735/0001-36  CONDOMINIO E-TOWER SAO PAULO     A   \n",
       "3    MTE0014877  05.055.735/0001-36  CONDOMINIO E-TOWER SAO PAULO     A   \n",
       "4    MTE0014877  05.055.735/0001-36  CONDOMINIO E-TOWER SAO PAULO     A   \n",
       "5    MTE0014877  05.055.735/0001-36  CONDOMINIO E-TOWER SAO PAULO     A   \n",
       "6    MTE0014877  05.055.735/0001-36  CONDOMINIO E-TOWER SAO PAULO     A   \n",
       "7    MTE0014877  05.055.735/0001-36  CONDOMINIO E-TOWER SAO PAULO     A   \n",
       "8    MTE0014877  05.055.735/0001-36  CONDOMINIO E-TOWER SAO PAULO     A   \n",
       "9    MTE0014877  05.055.735/0001-36  CONDOMINIO E-TOWER SAO PAULO     A   \n",
       "10   MTE0014877  05.055.735/0001-36  CONDOMINIO E-TOWER SAO PAULO     A   \n",
       "11   MTE0014877  05.055.735/0001-36  CONDOMINIO E-TOWER SAO PAULO     A   \n",
       "12   MTE0014877  05.055.735/0001-36  CONDOMINIO E-TOWER SAO PAULO     A   \n",
       "\n",
       "   subgrupo modalidade_tarifaria energia_contratada serie  months  demanda  \\\n",
       "0        A4                Verde            1.100,0   ACL  JUL/21  1.100,0   \n",
       "1        A4                Verde            1.100,0   ACL  JUN/21  1.100,0   \n",
       "2        A4                Verde            1.100,0   ACL  MAI/21  1.100,0   \n",
       "3        A4                Verde            1.100,0   ACL  MAI/21  1.100,0   \n",
       "4        A4                Verde            1.100,0   ACL  ABR/21  1.100,0   \n",
       "5        A4                Verde            1.100,0   ACL  MAR/21  1.100,0   \n",
       "6        A4                Verde            1.100,0   ACL  FEV/21  1.100,0   \n",
       "7        A4                Verde            1.100,0   ACL  JAN/21  1.100,0   \n",
       "8        A4                Verde            1.100,0   ACL  DEZ/20  1.100,0   \n",
       "9        A4                Verde            1.100,0   ACL  NOV/20  1.100,0   \n",
       "10       A4                Verde            1.100,0   ACL  OUT/20  1.100,0   \n",
       "11       A4                Verde            1.100,0   ACL  SET/20  1.100,0   \n",
       "12       A4                Verde            1.100,0   ACL  AGO/20  1.100,0   \n",
       "\n",
       "   consumo_hora_ponta consumo_hora_fora_ponta PIS_PASEP COFINS  \n",
       "0            14.265,7               153.680,5     0,65%  2,98%  \n",
       "1            14.164,1               151.548,2     0,65%  2,98%  \n",
       "2            13.509,7               158.159,4     0,65%  2,98%  \n",
       "3            11.669,8               160.611,8     0,65%  2,98%  \n",
       "4            18.131,8               197.036,6     0,65%  2,98%  \n",
       "5            17.291,5               184.986,7     0,65%  2,98%  \n",
       "6            16.670,2               195.434,6     0,65%  2,98%  \n",
       "7            10.946,2               132.169,7     0,65%  2,98%  \n",
       "8            17.631,4               183.348,7     0,65%  2,98%  \n",
       "9            15.661,4               176.524,6     0,65%  2,98%  \n",
       "10           16.853,8               176.438,9     0,65%  2,98%  \n",
       "11           16.004,9               172.877,0     0,65%  2,98%  \n",
       "12           13.851,4               157.726,8     0,65%  2,98%  "
      ]
     },
     "execution_count": 309,
     "metadata": {},
     "output_type": "execute_result"
    }
   ],
   "source": [
    "pd.DataFrame(dictionary)"
   ]
  },
  {
   "cell_type": "code",
   "execution_count": null,
   "metadata": {},
   "outputs": [],
   "source": []
  }
 ],
 "metadata": {
  "kernelspec": {
   "display_name": "Python 3",
   "language": "python",
   "name": "python3"
  },
  "language_info": {
   "codemirror_mode": {
    "name": "ipython",
    "version": 3
   },
   "file_extension": ".py",
   "mimetype": "text/x-python",
   "name": "python",
   "nbconvert_exporter": "python",
   "pygments_lexer": "ipython3",
   "version": "3.8.5"
  }
 },
 "nbformat": 4,
 "nbformat_minor": 4
}
