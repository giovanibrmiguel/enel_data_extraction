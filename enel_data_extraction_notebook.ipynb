{
 "cells": [
  {
   "cell_type": "code",
   "execution_count": 1,
   "metadata": {},
   "outputs": [],
   "source": [
    "import pandas as pd\n",
    "import re"
   ]
  },
  {
   "cell_type": "code",
   "execution_count": 4,
   "metadata": {},
   "outputs": [],
   "source": [
    "with open('conta.txt', 'r') as file:\n",
    "    texto = file.read().replace('\\n', ' ')"
   ]
  },
  {
   "cell_type": "code",
   "execution_count": null,
   "metadata": {},
   "outputs": [],
   "source": [
    "json_object = json.loads(json_object_string)"
   ]
  },
  {
   "cell_type": "code",
   "execution_count": 25,
   "metadata": {},
   "outputs": [
    {
     "data": {
      "text/plain": [
       "'enel Eletropaulo Metropolitana Eletricidade de São Paulo S. A. Av. Dr. Marcos Penteado de Ulhôa Rodrigues, 939, Loja 1 e 2, Térreo, 1° ao 7° andar - Torre II Bairro Sítio Tamboré - Barueri/SP - Cep. 06460-040 CNPJ 61.695.227/0001-93 - Inscrição Estadual: 206.165.226.110 | Regime Especial Proc. N° 1000635-686924/2005 SEGUNDA VIA. N° 515710574057 Páginas 1 O Dados do Cliente/Unidade Consumidora Q Dados da Conta Dados de Medição N° DA INSTALAÇÃO MTE0014877 10005292 N° do medidor 16789074 N° DO CLIENTE VENCIMENTO TOTAL A PAGAR (R$) CPF/CNPJ: 05.055.735/0001-36 INSC. EST: 25 AGO 2021 40.821,91 Leitura anterior 30 JUN CONDOMINIO E-TOWER SAO PAULO Leitura atual 31 JUL CONTA REFERENTE A JUL 2021 Próxima leitura 31 AGO RFUNCHAL 418 CEP: 04551-060 - SAO PAULO/SP ool Histórico de Faturamento Mês/Ano Demanda (kW) Consumo (kWh) Dias 8 Classificação da Unidade Consumidora Hora Fora Ponta Hora Ponta JUL/21 JUN/21 MAI/21 MAI/21 ABR/21 MAR/21 FEV/21 JAN/21 DEZ/20 NOV/20 OUT/20 SET/20 AGO/20 1.100,0 1.100,0 1.100,0 1.100,0 1.100,0 1.100,0 1.100,0 1.100,0 1.100,0 1.100,0 1.100,0 1.100,0 1.100,0 14.265,7 14.164,1 13.509,7 11.669,8 18.131,8 17.291,5 16.670,2 10.946,2 17.631,4 15.661,4 16.853,8 16.004,9 13.851,4 153.680,5 151.548,2 158.159,4 160.611,8 197.036,6 184.986,7 195.434,6 132.169,7 183.348,7 176.524,6 176.438,9 172.877,0 157.726,8 31 30 30 Grupo A Subgrupo A4 Classe COMÉRCIO, SERV.E OUTRAS ATIV. Subclasse OUTROS SERVIÇOSE OUTRAS ATIVIDADES 30 31 28 Tipo de Fornecimento Trifásico Modalidade Tarifária Verde Demanda / Energia Contratada 1.100,0 31 22 30 E Reservado ao Fisco BDBB.4D77.BB99.CDB2.245D.CO26.A527.1C02 Data de emissão N° Nota fiscal Série Base de cálculo Alíquota ICMS 32 29 31 31 16 AGO 2021 000095558 ACL 96.547,99 18% 17.378,61 CFOP 5253: Venda de en. elétrica p/ estabelecimento comercial N Descrição de Faturamento P Bandeira(s) Tarifária(s) aplicada(s) no mês VERDE FATURADO kW/ TARIFA C/ ICMS kWh/kvarh CI DESCRIÇÃO LEITURA LEITURA REGISTRADO BASE ICMS ALÍQ TARIFA S/ ICMS VALOR ANTERIOR ATUAL kW/kWh/kvarh ICMS IMPOSTOS MEDIDOR N° 16789074 CONST. POTENCIA 1,68000 CONST. ATIVO 0,42000 CONST. REATIVO 0,42000 CONSUMO PONTA VM 50.871 84.837 14.265,7 CONSUMO FORA PONTA CAPACIT. VM 89.471 153.748 26.996,3 CONSUMO FORA PONTA INDUTIVO VM 447.708 749.337 126.684,2 DEMANDA PONTA 297 167 280,6 DEMANDA FORA PONTA CAPACITIVA 135 136 228,5 DEMANDA FORA PONTA INDUTIVA 372 367 616,6 ENERGIA REATIVA PONTA 11.617 19.296 3.225,2 ENERGIA REATIVA F. PONTA IND. 148.267 246.851 41.405,3 UFER PONTA 0,0 UFER FORA PONTA CAPACITIVA 0,0 UFER FORA PONTA INDUTIVA 16 6,7 DMCR PONTA 934 567 238,1 DMCR FORA PONTA CAPACITIVA 418 433 181,9 DMCR FORA PONTA INDUTIVA 1.293 1.146 481,3 ENERGIA REATIVA F. PONTA CAP. 0,0 FATOR DE CARGA 0,000 0602 DEMANDA ÚNICA C/ DESCONTO 616,6 8,98192 5.537,89 18% 996,82 5.537,89 7,36516 0606 CONSUMO ATIVO PONTA TUSD 14.265,7 0,45533 6.495,59 18% 1.169,21 6.495,59 0,37337 0606 CONSUMO ATIVO F. PONTA TUSD 153.680,5 0,09748 14.980,11 18% 2.696,41 14.980,11 0,07993 0601 REGIME ESPECIAL-ICMS ACL 167.946,2 0,30049 50.465,79 18% 9.083,84 50.465,79 0,24640 0907 REGIME ESPECIAL-PIS COFINS ACL 167.946,2 41.381,95- 0,24640 0601 UFER FORA PONTA TE 6,7 0,34226 2,30 18% 0,41 2,30 0,28363 0602 DEMANDA LEI ESTADUAL 16.886/18 483,4 7,36516 0,00 0% 0,00 3.560,60 7,36516 0604 ENCARGO DA CONTA COVID 167.946,2 0,01434 2.408,59 18% 433,55 2.408,59 0,01176 0610 BENEFÍCIO TARIFÁRIO BRUTO 0,0 0,00000 14.985,05 18% 2.697,31 14.985,05 0,00000 0906 BENEFÍCIO TARIFÁRIO LÍQUIDO 0,0 0,00000 0,00 0% 0,00 12.287,74- 0,00000 0699 PIS/PASEP (0,65%) 299,48 18% 53,90 299,48 0699 PIS/PASEP (0,65%) 0,00 0% 0,00 58,86- 0699 COFINS (2,98%) 1.373,19 18% 247,16 1.373,19 0699 COFINS (2,98%) 0,00 0% 0,00 269,86- 0807 COSIP - SÃO PAULO - MUNICIPAL 30,47 0999 DIC JUNHO/2021 5.318,74- Valor dos Tributos: R$ 18.421,52 MENSAGENS: Informações sobre a apuração dos indicadores de qualidade de fornecimento de energia (DIC, FIC, DMIC e/ou DICRI) e sobre os atendimentos comerciais realizados em sua instalação, podem ser obtidas em nossa agência virtual - www.eneldistribuicaosp.com Por determinação da ANEEL, a bandeira tarifária aplicada ao consumo apurado no mês de jun/21 é a Vermelha Patamar II, onde a energia é mais cara. Para minimizar o impacto no valor da conta, fique atento ao consumo de energia. Confira dicas de economia em enel.com.br - CFOP: 5253 (Venda de en. elétrica p/ estabelecimento comercial) O pagamento desta conta não quita débitos anteriores. - Unid. consumidora enquadrada na categoria A4 Verde - Consumidor Especial, faturada com desc. tarifário de R$ 12287.74 - ICMS-subvenção por determinação da Sefaz-SP nos termos do Decreto n° 64.255/2019 Informações sobre a apuração dos indicadores de qualidade de fornecimento de energia (DIC, FIC, DMIC e/ou DICRI) e sobre os atendimentos comerciais realizados em sua instalação, podem ser obtidas em nossa agência virtual - www.eneldistribuicaosp.com Na forma do Art. 10 da Resolução Normativa ANEEL n° 885, de 23 de junho de 2020, todos os consumidores que solicitaram a migração ao mercado livre, a partir de 8 de abril de 2020, deverão arcar com o valor denominado de ENCARGO DA CONTA COVID a ser cobrado a partir do reajuste tarifário da Enel São Paulo, ocasião em que o valor foi homologado pela ANEEL mediante a publicação da Resolução Homologatória n° 2.890, de 4 de julho de 2021. BANCO BRADESCO S/A 237-2 23792.37205 90009.940140 51009.900005 9 87230004082191 Local de Pagamento Pagável, até o vencimento, em qualquer agência bancária da rede autorizada Vencimento 25/08/2021 Cedente Eletropaulo Metropolitana Eletricidade de São Paulo S. A. - CNPJ n 61.695.227/0001-93 - Av. Dr. Marcos Penteado de Ulhôa Rodrigues, 939, Loja 1 e 2, Térreo, 1 ao 7 andar -Torre II - Bairro Sítio Tamboré - Barueri/SP - Cep. 06460-040 2372-8/99000-0 Agência/Código Cedente Número do Documento 515710574057 Espécie Doc. Aceite DS Data do Documento Data Processamento Nosso Número 09/00099401451-2 16/08/2021 N Quantidade Espécie R$ Instruções (Todas informações deste bloqueto são de exclusiva responsabilidade do cedente) Uso do Banco Carteira Valor (=) Valor do Documento 09 40.821,91 (-) Desconto/Abatimento (-) Outras Deduções APÓS O VENCIMENTO, PAGÁVEL SOMENTE NAS AGÊNCIAS DO BANCO BRADESCO S/A (+) Mora/Multa NÃO COBRAR MULTAS OU ENCARGOS APÓS O VENCIMENTO. OS MESMOS INCIDIRÃO SOBRE A PRÓXIMA FATURA. (+) Outros Acréscimos (=) Valor Cobrado Sacado: CONDOMINIO E-TOWER SAO PAULO R FUNCHAL 418 VILA OLIMPIA 04551-060 SAO PAULO CNPJ: 05.055.735/0001-36 INSCRIÇÃO ESTADUAL: Sacador/Avalista: Código de Baixa: Autenticação Mecânica/FICHA DE COMPENSAÇÃO '"
      ]
     },
     "execution_count": 25,
     "metadata": {},
     "output_type": "execute_result"
    }
   ],
   "source": [
    "data = json.load(open('enel.json'))\n",
    "data[0]['description'].replace('\\n', ' ')"
   ]
  },
  {
   "cell_type": "code",
   "execution_count": 2,
   "metadata": {},
   "outputs": [
    {
     "data": {
      "text/plain": [
       "'enel Eletropaulo Metropolitana Eletricidade de São Paulo S. A. Av. Dr. Marcos Penteado de Ulhôa Rodrigues, 939, Loja 1 e 2, Térreo, 1° ao 7° andar - Torre II Bairro Sítio Tamboré - Barueri/SP - Cep. 06460-040 CNPJ 61.695.227/0001-93 - Inscrição Estadual: 206.165.226.110 | Regime Especial Proc. N° 1000635-686924/2005 SEGUNDA VIA. N° 515710574057 Páginas 1 O Dados do Cliente/Unidade Consumidora Q Dados da Conta Dados de Medição N° DA INSTALAÇÃO MTE0014877 10005292 N° do medidor 16789074 N° DO CLIENTE VENCIMENTO TOTAL A PAGAR (R$) CPF/CNPJ: 05.055.735/0001-36 INSC. EST: 25 AGO 2021 40.821,91 Leitura anterior 30 JUN CONDOMINIO E-TOWER SAO PAULO Leitura atual 31 JUL CONTA REFERENTE A JUL 2021 Próxima leitura 31 AGO RFUNCHAL 418 CEP: 04551-060 - SAO PAULO/SP ool Histórico de Faturamento Mês/Ano Demanda (kW) Consumo (kWh) Dias 8 Classificação da Unidade Consumidora Hora Fora Ponta Hora Ponta JUL/21 JUN/21 MAI/21 MAI/21 ABR/21 MAR/21 FEV/21 JAN/21 DEZ/20 NOV/20 OUT/20 SET/20 AGO/20 1.100,0 1.100,0 1.100,0 1.100,0 1.100,0 1.100,0 1.100,0 1.100,0 1.100,0 1.100,0 1.100,0 1.100,0 1.100,0 14.265,7 14.164,1 13.509,7 11.669,8 18.131,8 17.291,5 16.670,2 10.946,2 17.631,4 15.661,4 16.853,8 16.004,9 13.851,4 153.680,5 151.548,2 158.159,4 160.611,8 197.036,6 184.986,7 195.434,6 132.169,7 183.348,7 176.524,6 176.438,9 172.877,0 157.726,8 31 30 30 Grupo A Subgrupo A4 Classe COMÉRCIO, SERV.E OUTRAS ATIV. Subclasse OUTROS SERVIÇOSE OUTRAS ATIVIDADES 30 31 28 Tipo de Fornecimento Trifásico Modalidade Tarifária Verde Demanda / Energia Contratada 1.100,0 31 22 30 E Reservado ao Fisco BDBB.4D77.BB99.CDB2.245D.CO26.A527.1C02 Data de emissão N° Nota fiscal Série Base de cálculo Alíquota ICMS 32 29 31 31 16 AGO 2021 000095558 ACL 96.547,99 18% 17.378,61 CFOP 5253: Venda de en. elétrica p/ estabelecimento comercial N Descrição de Faturamento P Bandeira(s) Tarifária(s) aplicada(s) no mês VERDE FATURADO kW/ TARIFA C/ ICMS kWh/kvarh CI DESCRIÇÃO LEITURA LEITURA REGISTRADO BASE ICMS ALÍQ TARIFA S/ ICMS VALOR ANTERIOR ATUAL kW/kWh/kvarh ICMS IMPOSTOS MEDIDOR N° 16789074 CONST. POTENCIA 1,68000 CONST. ATIVO 0,42000 CONST. REATIVO 0,42000 CONSUMO PONTA VM 50.871 84.837 14.265,7 CONSUMO FORA PONTA CAPACIT. VM 89.471 153.748 26.996,3 CONSUMO FORA PONTA INDUTIVO VM 447.708 749.337 126.684,2 DEMANDA PONTA 297 167 280,6 DEMANDA FORA PONTA CAPACITIVA 135 136 228,5 DEMANDA FORA PONTA INDUTIVA 372 367 616,6 ENERGIA REATIVA PONTA 11.617 19.296 3.225,2 ENERGIA REATIVA F. PONTA IND. 148.267 246.851 41.405,3 UFER PONTA 0,0 UFER FORA PONTA CAPACITIVA 0,0 UFER FORA PONTA INDUTIVA 16 6,7 DMCR PONTA 934 567 238,1 DMCR FORA PONTA CAPACITIVA 418 433 181,9 DMCR FORA PONTA INDUTIVA 1.293 1.146 481,3 ENERGIA REATIVA F. PONTA CAP. 0,0 FATOR DE CARGA 0,000 0602 DEMANDA ÚNICA C/ DESCONTO 616,6 8,98192 5.537,89 18% 996,82 5.537,89 7,36516 0606 CONSUMO ATIVO PONTA TUSD 14.265,7 0,45533 6.495,59 18% 1.169,21 6.495,59 0,37337 0606 CONSUMO ATIVO F. PONTA TUSD 153.680,5 0,09748 14.980,11 18% 2.696,41 14.980,11 0,07993 0601 REGIME ESPECIAL-ICMS ACL 167.946,2 0,30049 50.465,79 18% 9.083,84 50.465,79 0,24640 0907 REGIME ESPECIAL-PIS COFINS ACL 167.946,2 41.381,95- 0,24640 0601 UFER FORA PONTA TE 6,7 0,34226 2,30 18% 0,41 2,30 0,28363 0602 DEMANDA LEI ESTADUAL 16.886/18 483,4 7,36516 0,00 0% 0,00 3.560,60 7,36516 0604 ENCARGO DA CONTA COVID 167.946,2 0,01434 2.408,59 18% 433,55 2.408,59 0,01176 0610 BENEFÍCIO TARIFÁRIO BRUTO 0,0 0,00000 14.985,05 18% 2.697,31 14.985,05 0,00000 0906 BENEFÍCIO TARIFÁRIO LÍQUIDO 0,0 0,00000 0,00 0% 0,00 12.287,74- 0,00000 0699 PIS/PASEP (0,65%) 299,48 18% 53,90 299,48 0699 PIS/PASEP (0,65%) 0,00 0% 0,00 58,86- 0699 COFINS (2,98%) 1.373,19 18% 247,16 1.373,19 0699 COFINS (2,98%) 0,00 0% 0,00 269,86- 0807 COSIP - SÃO PAULO - MUNICIPAL 30,47 0999 DIC JUNHO/2021 5.318,74- Valor dos Tributos: R$ 18.421,52 MENSAGENS: Informações sobre a apuração dos indicadores de qualidade de fornecimento de energia (DIC, FIC, DMIC e/ou DICRI) e sobre os atendimentos comerciais realizados em sua instalação, podem ser obtidas em nossa agência virtual - www.eneldistribuicaosp.com Por determinação da ANEEL, a bandeira tarifária aplicada ao consumo apurado no mês de jun/21 é a Vermelha Patamar II, onde a energia é mais cara. Para minimizar o impacto no valor da conta, fique atento ao consumo de energia. Confira dicas de economia em enel.com.br - CFOP: 5253 (Venda de en. elétrica p/ estabelecimento comercial) O pagamento desta conta não quita débitos anteriores. - Unid. consumidora enquadrada na categoria A4 Verde - Consumidor Especial, faturada com desc. tarifário de R$ 12287.74 - ICMS-subvenção por determinação da Sefaz-SP nos termos do Decreto n° 64.255/2019 Informações sobre a apuração dos indicadores de qualidade de fornecimento de energia (DIC, FIC, DMIC e/ou DICRI) e sobre os atendimentos comerciais realizados em sua instalação, podem ser obtidas em nossa agência virtual - www.eneldistribuicaosp.com Na forma do Art. 10 da Resolução Normativa ANEEL n° 885, de 23 de junho de 2020, todos os consumidores que solicitaram a migração ao mercado livre, a partir de 8 de abril de 2020, deverão arcar com o valor denominado de ENCARGO DA CONTA COVID a ser cobrado a partir do reajuste tarifário da Enel São Paulo, ocasião em que o valor foi homologado pela ANEEL mediante a publicação da Resolução Homologatória n° 2.890, de 4 de julho de 2021. BANCO BRADESCO S/A 237-2 23792.37205 90009.940140 51009.900005 9 87230004082191 Local de Pagamento Pagável, até o vencimento, em qualquer agência bancária da rede autorizada Vencimento 25/08/2021 Cedente Eletropaulo Metropolitana Eletricidade de São Paulo S. A. - CNPJ n 61.695.227/0001-93 - Av. Dr. Marcos Penteado de Ulhôa Rodrigues, 939, Loja 1 e 2, Térreo, 1 ao 7 andar -Torre II - Bairro Sítio Tamboré - Barueri/SP - Cep. 06460-040 2372-8/99000-0 Agência/Código Cedente Número do Documento 515710574057 Espécie Doc. Aceite DS Data do Documento Data Processamento Nosso Número 09/00099401451-2 16/08/2021 N Quantidade Espécie R$ Instruções (Todas informações deste bloqueto são de exclusiva responsabilidade do cedente) Uso do Banco Carteira Valor (=) Valor do Documento 09 40.821,91 (-) Desconto/Abatimento (-) Outras Deduções APÓS O VENCIMENTO, PAGÁVEL SOMENTE NAS AGÊNCIAS DO BANCO BRADESCO S/A (+) Mora/Multa NÃO COBRAR MULTAS OU ENCARGOS APÓS O VENCIMENTO. OS MESMOS INCIDIRÃO SOBRE A PRÓXIMA FATURA. (+) Outros Acréscimos (=) Valor Cobrado Sacado: CONDOMINIO E-TOWER SAO PAULO R FUNCHAL 418 VILA OLIMPIA 04551-060 SAO PAULO CNPJ: 05.055.735/0001-36 INSCRIÇÃO ESTADUAL: Sacador/Avalista: Código de Baixa: Autenticação Mecânica/FICHA DE COMPENSAÇÃO '"
      ]
     },
     "execution_count": 2,
     "metadata": {},
     "output_type": "execute_result"
    }
   ],
   "source": [
    "texto"
   ]
  },
  {
   "cell_type": "code",
   "execution_count": 6,
   "metadata": {},
   "outputs": [],
   "source": [
    "with open('texto.txt', 'r') as file:\n",
    "    texto = file.read().replace('\\n', ' ')"
   ]
  },
  {
   "cell_type": "code",
   "execution_count": 10,
   "metadata": {
    "scrolled": false
   },
   "outputs": [
    {
     "data": {
      "text/plain": [
       "'MTE0014877'"
      ]
     },
     "execution_count": 10,
     "metadata": {},
     "output_type": "execute_result"
    }
   ],
   "source": [
    "#Assumindo que a primeira palavra após N DA INSTALAÇÃO vai ser o número da instalação\n",
    "n_instalação = re.search('N° DA INSTALAÇÃO (\\w+)', texto).group(1)\n",
    "n_instalação"
   ]
  },
  {
   "cell_type": "code",
   "execution_count": 11,
   "metadata": {},
   "outputs": [
    {
     "data": {
      "text/plain": [
       "'05.055.735/0001-36'"
      ]
     },
     "execution_count": 11,
     "metadata": {},
     "output_type": "execute_result"
    }
   ],
   "source": [
    "#Assumindo que a palavra entre CPF?CNPJ e INC. EST vai ser o CPF/CNPJ\n",
    "CPF_CNPJ = re.search('CPF/CNPJ: (.*) INSC. EST', texto).group(1)\n",
    "CPF_CNPJ"
   ]
  },
  {
   "cell_type": "code",
   "execution_count": 12,
   "metadata": {},
   "outputs": [
    {
     "data": {
      "text/plain": [
       "'CONDOMINIO E-TOWER SAO PAULO'"
      ]
     },
     "execution_count": 12,
     "metadata": {},
     "output_type": "execute_result"
    }
   ],
   "source": [
    "#Assumindo que a frase entre 'leitura anterior' e 'leitura atual' excluindo as duas primeiras palavras (mes e dia) são o local\n",
    "local = re.search('Leitura anterior (.*) Leitura atual', texto).group(1)\n",
    "local = local.split(' ', 2)[2]\n",
    "local"
   ]
  },
  {
   "cell_type": "code",
   "execution_count": 13,
   "metadata": {},
   "outputs": [
    {
     "data": {
      "text/plain": [
       "'A'"
      ]
     },
     "execution_count": 13,
     "metadata": {},
     "output_type": "execute_result"
    }
   ],
   "source": [
    "#Assumindo que a primeira palavra após GRUPO vai ser o grupo\n",
    "grupo = re.search('Grupo (\\w+)', texto).group(1)\n",
    "grupo"
   ]
  },
  {
   "cell_type": "code",
   "execution_count": 14,
   "metadata": {
    "scrolled": true
   },
   "outputs": [
    {
     "data": {
      "text/plain": [
       "'A4'"
      ]
     },
     "execution_count": 14,
     "metadata": {},
     "output_type": "execute_result"
    }
   ],
   "source": [
    "#Assumindo que a primeira palavra após GRUPO vai ser o grupo\n",
    "subgrupo = re.search('Subgrupo (\\w+)', texto).group(1)\n",
    "subgrupo"
   ]
  },
  {
   "cell_type": "code",
   "execution_count": 15,
   "metadata": {},
   "outputs": [
    {
     "data": {
      "text/plain": [
       "'Verde'"
      ]
     },
     "execution_count": 15,
     "metadata": {},
     "output_type": "execute_result"
    }
   ],
   "source": [
    "#Assumindo que a primeira palavra após Modalidade Tarifária vai ser a modalidade tarifária\n",
    "modalidade_tarifaria = re.search('Modalidade Tarifária (\\w+)', texto).group(1)\n",
    "modalidade_tarifaria"
   ]
  },
  {
   "cell_type": "code",
   "execution_count": 16,
   "metadata": {},
   "outputs": [
    {
     "data": {
      "text/plain": [
       "'1.100,0'"
      ]
     },
     "execution_count": 16,
     "metadata": {},
     "output_type": "execute_result"
    }
   ],
   "source": [
    "#Assumindo que a energia_contratada vai ser um número aparecendo logo após o texto Energia Contratada\n",
    "energia_contratada = re.search('Demanda / Energia Contratada ([\\d,\\.]+)', texto).group(1)\n",
    "energia_contratada"
   ]
  },
  {
   "cell_type": "code",
   "execution_count": 17,
   "metadata": {
    "scrolled": true
   },
   "outputs": [
    {
     "data": {
      "text/plain": [
       "'ACL'"
      ]
     },
     "execution_count": 17,
     "metadata": {},
     "output_type": "execute_result"
    }
   ],
   "source": [
    "#Assumindo que o sétimo string após 'Série Base de cálculo Alíquota ICMS' vai ser a série\n",
    "serie = re.search('Série Base de cálculo Alíquota ICMS (.*)', texto).group(1)\n",
    "serie = serie.split(' ', 8)[8]\n",
    "serie = serie.split()[0]\n",
    "serie"
   ]
  },
  {
   "cell_type": "code",
   "execution_count": 18,
   "metadata": {},
   "outputs": [
    {
     "data": {
      "text/plain": [
       "['153.680,5',\n",
       " '151.548,2',\n",
       " '158.159,4',\n",
       " '160.611,8',\n",
       " '197.036,6',\n",
       " '184.986,7',\n",
       " '195.434,6',\n",
       " '132.169,7',\n",
       " '183.348,7',\n",
       " '176.524,6',\n",
       " '176.438,9',\n",
       " '172.877,0',\n",
       " '157.726,8']"
      ]
     },
     "execution_count": 18,
     "metadata": {},
     "output_type": "execute_result"
    }
   ],
   "source": [
    "#Assumindo que após a palavra Hora Ponta virá a tabela que terá 13 linhas\n",
    "tabela = re.search('Hora Ponta (.*)', texto).group(1)\n",
    "tabela = tabela.split()\n",
    "months = tabela[:13]\n",
    "demanda = tabela[13:26]\n",
    "consumo_hora_ponta = tabela[26:39]\n",
    "consumo_hora_fora_ponta = tabela[39:52]\n",
    "consumo_hora_fora_ponta"
   ]
  },
  {
   "cell_type": "code",
   "execution_count": 19,
   "metadata": {},
   "outputs": [
    {
     "data": {
      "text/plain": [
       "'0,65%'"
      ]
     },
     "execution_count": 19,
     "metadata": {},
     "output_type": "execute_result"
    }
   ],
   "source": [
    "#Assumindo que o PIS/PASEP vai estar entre parenteses após a frase PIS/PASEP\n",
    "PIS_PASEP = re.search('PIS/PASEP \\((.*?)\\)', texto).group(1)\n",
    "PIS_PASEP"
   ]
  },
  {
   "cell_type": "code",
   "execution_count": 20,
   "metadata": {},
   "outputs": [
    {
     "data": {
      "text/plain": [
       "'2,98%'"
      ]
     },
     "execution_count": 20,
     "metadata": {},
     "output_type": "execute_result"
    }
   ],
   "source": [
    "#Assumindo que o COFINS vai estar entre parenteses após a frase COFINS\n",
    "COFINS = re.search('COFINS \\((.*?)\\)', texto).group(1)\n",
    "COFINS"
   ]
  },
  {
   "cell_type": "code",
   "execution_count": 75,
   "metadata": {},
   "outputs": [
    {
     "data": {
      "text/plain": [
       "'{\"0\":{\"month\":\"JUL\\\\/21\",\"demanda\":\"1.100,0\",\"consumo_hora_ponta\":\"14.265,7\",\"consumo_hora_fora_ponta\":\"153.680,5\"},\"1\":{\"month\":\"JUN\\\\/21\",\"demanda\":\"1.100,0\",\"consumo_hora_ponta\":\"14.164,1\",\"consumo_hora_fora_ponta\":\"151.548,2\"},\"2\":{\"month\":\"MAI\\\\/21\",\"demanda\":\"1.100,0\",\"consumo_hora_ponta\":\"13.509,7\",\"consumo_hora_fora_ponta\":\"158.159,4\"},\"3\":{\"month\":\"MAI\\\\/21\",\"demanda\":\"1.100,0\",\"consumo_hora_ponta\":\"11.669,8\",\"consumo_hora_fora_ponta\":\"160.611,8\"},\"4\":{\"month\":\"ABR\\\\/21\",\"demanda\":\"1.100,0\",\"consumo_hora_ponta\":\"18.131,8\",\"consumo_hora_fora_ponta\":\"197.036,6\"},\"5\":{\"month\":\"MAR\\\\/21\",\"demanda\":\"1.100,0\",\"consumo_hora_ponta\":\"17.291,5\",\"consumo_hora_fora_ponta\":\"184.986,7\"},\"6\":{\"month\":\"FEV\\\\/21\",\"demanda\":\"1.100,0\",\"consumo_hora_ponta\":\"16.670,2\",\"consumo_hora_fora_ponta\":\"195.434,6\"},\"7\":{\"month\":\"JAN\\\\/21\",\"demanda\":\"1.100,0\",\"consumo_hora_ponta\":\"10.946,2\",\"consumo_hora_fora_ponta\":\"132.169,7\"},\"8\":{\"month\":\"DEZ\\\\/20\",\"demanda\":\"1.100,0\",\"consumo_hora_ponta\":\"17.631,4\",\"consumo_hora_fora_ponta\":\"183.348,7\"},\"9\":{\"month\":\"NOV\\\\/20\",\"demanda\":\"1.100,0\",\"consumo_hora_ponta\":\"15.661,4\",\"consumo_hora_fora_ponta\":\"176.524,6\"},\"10\":{\"month\":\"OUT\\\\/20\",\"demanda\":\"1.100,0\",\"consumo_hora_ponta\":\"16.853,8\",\"consumo_hora_fora_ponta\":\"176.438,9\"},\"11\":{\"month\":\"SET\\\\/20\",\"demanda\":\"1.100,0\",\"consumo_hora_ponta\":\"16.004,9\",\"consumo_hora_fora_ponta\":\"172.877,0\"},\"12\":{\"month\":\"AGO\\\\/20\",\"demanda\":\"1.100,0\",\"consumo_hora_ponta\":\"13.851,4\",\"consumo_hora_fora_ponta\":\"157.726,8\"}}'"
      ]
     },
     "execution_count": 75,
     "metadata": {},
     "output_type": "execute_result"
    }
   ],
   "source": [
    "table_dicio = {'month':table_months,\n",
    "         'demanda':table_demanda,\n",
    "         'consumo_hora_ponta':table_consumo_hora_ponta,\n",
    "         'consumo_hora_fora_ponta':table_consumo_hora_fora_ponta\n",
    "        }\n",
    "table_df = pd.DataFrame(table_dicio)\n",
    "table_json = table_df.to_json(orient='index') # Também temos a opção 'records' ou 'split'\n",
    "table_json"
   ]
  },
  {
   "cell_type": "code",
   "execution_count": 27,
   "metadata": {
    "scrolled": true
   },
   "outputs": [
    {
     "name": "stdout",
     "output_type": "stream",
     "text": [
      "{\n",
      "    \"n_instalacao\": \"MTE0014877\",\n",
      "    \"CPF_CNPJ\": \"05.055.735/0001-36\",\n",
      "    \"local\": \"CONDOMINIO E-TOWER SAO PAULO\",\n",
      "    \"grupo\": \"A\",\n",
      "    \"subgrupo\": \"A4\",\n",
      "    \"modalidade_tarifaria\": \"Verde\",\n",
      "    \"energia_contratada\": \"1.100,0\",\n",
      "    \"serie\": \"ACL\",\n",
      "    \"tabela\": {\n",
      "        \"month\": [\n",
      "            \"JUL/21\",\n",
      "            \"JUN/21\",\n",
      "            \"MAI/21\",\n",
      "            \"MAI/21\",\n",
      "            \"ABR/21\",\n",
      "            \"MAR/21\",\n",
      "            \"FEV/21\",\n",
      "            \"JAN/21\",\n",
      "            \"DEZ/20\",\n",
      "            \"NOV/20\",\n",
      "            \"OUT/20\",\n",
      "            \"SET/20\",\n",
      "            \"AGO/20\"\n",
      "        ],\n",
      "        \"demanda\": [\n",
      "            \"1.100,0\",\n",
      "            \"1.100,0\",\n",
      "            \"1.100,0\",\n",
      "            \"1.100,0\",\n",
      "            \"1.100,0\",\n",
      "            \"1.100,0\",\n",
      "            \"1.100,0\",\n",
      "            \"1.100,0\",\n",
      "            \"1.100,0\",\n",
      "            \"1.100,0\",\n",
      "            \"1.100,0\",\n",
      "            \"1.100,0\",\n",
      "            \"1.100,0\"\n",
      "        ],\n",
      "        \"consumo_hora_ponta\": [\n",
      "            \"14.265,7\",\n",
      "            \"14.164,1\",\n",
      "            \"13.509,7\",\n",
      "            \"11.669,8\",\n",
      "            \"18.131,8\",\n",
      "            \"17.291,5\",\n",
      "            \"16.670,2\",\n",
      "            \"10.946,2\",\n",
      "            \"17.631,4\",\n",
      "            \"15.661,4\",\n",
      "            \"16.853,8\",\n",
      "            \"16.004,9\",\n",
      "            \"13.851,4\"\n",
      "        ],\n",
      "        \"consumo_hora_fora_ponta\": [\n",
      "            \"153.680,5\",\n",
      "            \"151.548,2\",\n",
      "            \"158.159,4\",\n",
      "            \"160.611,8\",\n",
      "            \"197.036,6\",\n",
      "            \"184.986,7\",\n",
      "            \"195.434,6\",\n",
      "            \"132.169,7\",\n",
      "            \"183.348,7\",\n",
      "            \"176.524,6\",\n",
      "            \"176.438,9\",\n",
      "            \"172.877,0\",\n",
      "            \"157.726,8\"\n",
      "        ]\n",
      "    },\n",
      "    \"PIS_PASEP\": \"0,65%\",\n",
      "    \"COFINS\": \"2,98%\"\n",
      "}\n"
     ]
    }
   ],
   "source": [
    "import json \n",
    "import pandas as pd\n",
    "import re\n",
    "\n",
    "data = json.load(open('enel.json'))\n",
    "texto = data[0]['description'].replace('\\n', ' ')\n",
    "\n",
    "#Assumindo que a primeira palavra após N DA INSTALAÇÃO vai ser o número da instalação\n",
    "n_instalacao = re.search('N° DA INSTALAÇÃO (\\w+)', texto).group(1) \n",
    "\n",
    "#Assumindo que a palavra entre CPF?CNPJ e INC. EST vai ser o CPF/CNPJ\n",
    "CPF_CNPJ = re.search('CPF/CNPJ: (.*) INSC. EST', texto).group(1) \n",
    "\n",
    "#Assumindo que a frase entre 'leitura anterior' e 'leitura atual' excluindo as duas primeiras palavras (mes e dia) são o local\n",
    "local = re.search('Leitura anterior (.*) Leitura atual', texto).group(1)\n",
    "local = local.split(' ', 2)[2]\n",
    "\n",
    "#Assumindo que a primeira palavra após GRUPO vai ser o grupo\n",
    "grupo = re.search('Grupo (\\w+)', texto).group(1)\n",
    "\n",
    "#Assumindo que a primeira palavra após GRUPO vai ser o grupo\n",
    "subgrupo = re.search('Subgrupo (\\w+)', texto).group(1)\n",
    "\n",
    "#Assumindo que a primeira palavra após Modalidade Tarifária vai ser a modalidade tarifária\n",
    "modalidade_tarifaria = re.search('Modalidade Tarifária (\\w+)', texto).group(1)\n",
    "\n",
    "#Assumindo que a energia_contratada vai ser um número aparecendo logo após o texto Energia Contratada\n",
    "energia_contratada = re.search('Demanda / Energia Contratada ([\\d,\\.]+)', texto).group(1)\n",
    "\n",
    "#Assumindo que o sétimo string após 'Série Base de cálculo Alíquota ICMS' vai ser a série\n",
    "serie = re.search('Série Base de cálculo Alíquota ICMS (.*)', texto).group(1)\n",
    "serie = serie.split(' ', 8)[8]\n",
    "serie = serie.split()[0]\n",
    "\n",
    "#Assumindo que após a palavra Hora Ponta virá a tabela que terá 13 linhas\n",
    "tabela = re.search('Hora Ponta (.*)', texto).group(1)\n",
    "tabela = tabela.split()\n",
    "table_months = tabela[:13]\n",
    "table_demanda = tabela[13:26]\n",
    "table_consumo_hora_ponta = tabela[26:39]\n",
    "table_consumo_hora_fora_ponta = tabela[39:52]\n",
    "table_dicio = {'month':table_months,\n",
    "         'demanda':table_demanda,\n",
    "         'consumo_hora_ponta':table_consumo_hora_ponta,\n",
    "         'consumo_hora_fora_ponta':table_consumo_hora_fora_ponta\n",
    "        }\n",
    "\n",
    "#Assumindo que o PIS/PASEP vai estar entre parenteses após a frase PIS/PASEP\n",
    "PIS_PASEP = re.search('PIS/PASEP \\((.*?)\\)', texto).group(1)\n",
    "PIS_PASEP\n",
    "\n",
    "#Assumindo que o COFINS vai estar entre parenteses após a frase COFINS\n",
    "COFINS = re.search('COFINS \\((.*?)\\)', texto).group(1)\n",
    "COFINS\n",
    "\n",
    "keys = ['n_instalacao',\n",
    "          'CPF_CNPJ',\n",
    "          'local',\n",
    "          'grupo',\n",
    "          'subgrupo',\n",
    "          'modalidade_tarifaria',\n",
    "          'energia_contratada',\n",
    "          'serie',\n",
    "          'tabela',\n",
    "          'PIS_PASEP',\n",
    "          'COFINS'\n",
    "         ]\n",
    "\n",
    "values = [n_instalacao,\n",
    "          CPF_CNPJ,\n",
    "          local,\n",
    "          grupo,\n",
    "          subgrupo,\n",
    "          modalidade_tarifaria,\n",
    "          energia_contratada,\n",
    "          serie,\n",
    "          table_dicio,\n",
    "          PIS_PASEP,\n",
    "          COFINS\n",
    "         ]\n",
    "dictionary = dict(zip(keys, values))\n",
    "json_object = json.dumps(dictionary, indent = 4) \n",
    "print(json_object)"
   ]
  }
 ],
 "metadata": {
  "kernelspec": {
   "display_name": "Python 3",
   "language": "python",
   "name": "python3"
  },
  "language_info": {
   "codemirror_mode": {
    "name": "ipython",
    "version": 3
   },
   "file_extension": ".py",
   "mimetype": "text/x-python",
   "name": "python",
   "nbconvert_exporter": "python",
   "pygments_lexer": "ipython3",
   "version": "3.8.5"
  }
 },
 "nbformat": 4,
 "nbformat_minor": 4
}
